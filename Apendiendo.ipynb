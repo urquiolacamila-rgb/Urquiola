{
  "nbformat": 4,
  "nbformat_minor": 0,
  "metadata": {
    "colab": {
      "provenance": [],
      "authorship_tag": "ABX9TyOMoueQhx45f8GqCODuk2XB",
      "include_colab_link": true
    },
    "kernelspec": {
      "name": "python3",
      "display_name": "Python 3"
    },
    "language_info": {
      "name": "python"
    }
  },
  "cells": [
    {
      "cell_type": "markdown",
      "metadata": {
        "id": "view-in-github",
        "colab_type": "text"
      },
      "source": [
        "<a href=\"https://colab.research.google.com/github/urquiolacamila-rgb/Urquiola/blob/main/Apendiendo.ipynb\" target=\"_parent\"><img src=\"https://colab.research.google.com/assets/colab-badge.svg\" alt=\"Open In Colab\"/></a>"
      ]
    },
    {
      "cell_type": "code",
      "execution_count": null,
      "metadata": {
        "id": "h1IDtolKrgbL"
      },
      "outputs": [],
      "source": []
    },
    {
      "cell_type": "code",
      "source": [
        "5+5-6"
      ],
      "metadata": {
        "colab": {
          "base_uri": "https://localhost:8080/"
        },
        "id": "fhcni38orx9Z",
        "outputId": "dc7fbbef-b746-4304-f1da-029377f10c33"
      },
      "execution_count": null,
      "outputs": [
        {
          "output_type": "execute_result",
          "data": {
            "text/plain": [
              "4"
            ]
          },
          "metadata": {},
          "execution_count": 2
        }
      ]
    },
    {
      "cell_type": "markdown",
      "source": [
        "# HOLA\n",
        "## HOLA\n",
        "### HOLA\n",
        "#### HOLA\n",
        "HOLA\n",
        "> HOLA\n",
        "> # HOLA\n",
        "**HOLA**\n",
        "*HOLA*"
      ],
      "metadata": {
        "id": "8BKMxzmNsv85"
      }
    },
    {
      "cell_type": "markdown",
      "source": [
        "![](https://media.cnnchile.com/sites/2/2025/08/pexels-divinetechygirl-1181263-740x430.jpg)\n"
      ],
      "metadata": {
        "id": "fqal_fenuqKT"
      }
    },
    {
      "cell_type": "markdown",
      "source": [],
      "metadata": {
        "id": "h7YwUwKYrsCn"
      }
    },
    {
      "cell_type": "code",
      "source": [],
      "metadata": {
        "id": "Ze5d1aMavA0G"
      },
      "execution_count": null,
      "outputs": []
    }
  ]
}